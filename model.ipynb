{
 "cells": [
  {
   "cell_type": "markdown",
   "id": "93953b07",
   "metadata": {},
   "source": [
    "## data preparation"
   ]
  },
  {
   "cell_type": "code",
   "execution_count": 1,
   "id": "9b1a9bda",
   "metadata": {},
   "outputs": [],
   "source": [
    "import os\n",
    "import shutil\n",
    "import glob\n",
    "from tqdm import tqdm"
   ]
  },
  {
   "cell_type": "markdown",
   "id": "8868b973",
   "metadata": {},
   "source": [
    "subject ID:\n",
    "xxx\n",
    "\n",
    "image number:\n",
    "xxx\n",
    "\n",
    "gender:\n",
    "0 - male\n",
    "1 - famale\n",
    "\n",
    "glasses:\n",
    "0 - no\n",
    "1 - yes\n",
    "\n",
    "eye state:\n",
    "0 - close\n",
    "1 - open\n",
    "\n",
    "reflections:\n",
    "0 - none\n",
    "1 - low\n",
    "2 - high\n",
    "\n",
    "lighting conditions/image quality:\n",
    "0 - bad\n",
    "1 - good\n",
    "\n",
    "sensor type:\n",
    "01 - RealSense SR300 640x480\n",
    "02 - IDS Imaging, 1280x1024\n",
    "03 - Aptina Imagin 752x480\n",
    "\n",
    "example:\n",
    "s001_00123_0_0_0_0_0_01.png\n",
    "\n",
    "\n",
    "\n",
    "\n"
   ]
  },
  {
   "cell_type": "code",
   "execution_count": 2,
   "id": "d27f1fb8",
   "metadata": {},
   "outputs": [],
   "source": [
    "raw_dir = r\"\\\\Mac\\Home\\Downloads\\mrlEyes_2018_01\""
   ]
  },
  {
   "cell_type": "code",
   "execution_count": 4,
   "id": "8dd21459",
   "metadata": {
    "scrolled": true
   },
   "outputs": [],
   "source": [
    "for dirpath,dirname,filename in os.walk(raw_dir):\n",
    "    for i in tqdm(([f for f in filename if f.endswith(\".png\")])):\n",
    "        if i.split('_')[4]==\"0\":\n",
    "            shutil.copy(src=dirpath+\"/\"+i,dst=r\"\\\\Mac\\Home\\Downloads\\mrlEyes_2018_01\\prepared_data\\closeEyes\")\n",
    "        elif i.split(\"_\")[4]==\"1\":\n",
    "            shutil.copy(src=dirpath+\"/\"+i,dst=r\"\\\\Mac\\Home\\Downloads\\mrlEyes_2018_01\\prepared_data\\openEyes\")"
   ]
  },
  {
   "cell_type": "markdown",
   "id": "c16b357d",
   "metadata": {},
   "source": [
    "### Model training"
   ]
  },
  {
   "cell_type": "code",
   "execution_count": 5,
   "id": "b9568d90",
   "metadata": {},
   "outputs": [],
   "source": [
    "import tensorflow as tf\n",
    "from tensorflow.keras.applications import InceptionV3\n",
    "from tensorflow.keras.models import Model\n",
    "from tensorflow.keras.layers import Dropout,Input,Flatten,Dense,MaxPooling2D\n",
    "from tensorflow.keras.optimizers import Adam\n",
    "from tensorflow.keras.preprocessing.image import ImageDataGenerator #data augmentation"
   ]
  },
  {
   "cell_type": "code",
   "execution_count": 6,
   "id": "0a64c85b",
   "metadata": {},
   "outputs": [],
   "source": [
    "batchsize = 8"
   ]
  },
  {
   "cell_type": "code",
   "execution_count": 7,
   "id": "7c3946e4",
   "metadata": {},
   "outputs": [],
   "source": [
    "train_data_generator=ImageDataGenerator(rotation_range=0.2,shear_range=0.2,rescale=1/255,validation_split=.2)"
   ]
  },
  {
   "cell_type": "code",
   "execution_count": 8,
   "id": "6efa7475",
   "metadata": {},
   "outputs": [
    {
     "name": "stdout",
     "output_type": "stream",
     "text": [
      "WARNING:tensorflow:From C:\\Users\\MUFSEE~1\\AppData\\Local\\Temp/ipykernel_8612/337460670.py:1: is_gpu_available (from tensorflow.python.framework.test_util) is deprecated and will be removed in a future version.\n",
      "Instructions for updating:\n",
      "Use `tf.config.list_physical_devices('GPU')` instead.\n"
     ]
    },
    {
     "data": {
      "text/plain": [
       "False"
      ]
     },
     "execution_count": 8,
     "metadata": {},
     "output_type": "execute_result"
    }
   ],
   "source": [
    "tf.test.is_gpu_available()"
   ]
  },
  {
   "cell_type": "code",
   "execution_count": 9,
   "id": "c6a54620",
   "metadata": {},
   "outputs": [
    {
     "name": "stdout",
     "output_type": "stream",
     "text": [
      "Found 33536 images belonging to 2 classes.\n",
      "Found 8382 images belonging to 2 classes.\n"
     ]
    }
   ],
   "source": [
    "train_data = train_data_generator.flow_from_directory(r\"\\\\Mac\\Home\\Downloads\\mrlEyes_2018_01\\prepared_data\\train\",target_size=(80,80),batch_size=8,class_mode=\"categorical\",subset=\"training\")\n",
    "validation_data = train_data_generator.flow_from_directory(r\"\\\\Mac\\Home\\Downloads\\mrlEyes_2018_01\\prepared_data\\train\",target_size=(80,80),batch_size=8,class_mode=\"categorical\",subset=\"validation\")"
   ]
  },
  {
   "cell_type": "code",
   "execution_count": 10,
   "id": "e7b6e751",
   "metadata": {},
   "outputs": [
    {
     "name": "stdout",
     "output_type": "stream",
     "text": [
      "Found 2152 images belonging to 2 classes.\n"
     ]
    }
   ],
   "source": [
    "test_data_generator = ImageDataGenerator(rescale=1/255)\n",
    "test_data =  test_data_generator.flow_from_directory(r\"\\\\Mac\\Home\\Downloads\\mrlEyes_2018_01\\prepared_data\\test\",target_size=(80,80),batch_size=8,class_mode=\"categorical\")\n"
   ]
  },
  {
   "cell_type": "code",
   "execution_count": 11,
   "id": "9fcaaa65",
   "metadata": {},
   "outputs": [],
   "source": [
    "base_model = InceptionV3(include_top=False, weights = \"imagenet\", input_tensor=Input(shape=(80,80,3)))"
   ]
  },
  {
   "cell_type": "code",
   "execution_count": 12,
   "id": "937cfde1",
   "metadata": {},
   "outputs": [],
   "source": [
    "head_model = base_model.output"
   ]
  },
  {
   "cell_type": "code",
   "execution_count": 13,
   "id": "500cf157",
   "metadata": {},
   "outputs": [],
   "source": [
    "#base_model.summary()"
   ]
  },
  {
   "cell_type": "code",
   "execution_count": 14,
   "id": "462a0535",
   "metadata": {},
   "outputs": [],
   "source": [
    "head_model = Flatten()(head_model)\n",
    "head_model = Dense(64,activation=\"relu\")(head_model)\n",
    "head_model = Dropout(0.5)(head_model)\n",
    "head_model = Dense(2,activation=\"softmax\")(head_model)"
   ]
  },
  {
   "cell_type": "code",
   "execution_count": 15,
   "id": "0eafed47",
   "metadata": {},
   "outputs": [],
   "source": [
    "model = Model(inputs = base_model.input,outputs = head_model)"
   ]
  },
  {
   "cell_type": "code",
   "execution_count": 16,
   "id": "e6035530",
   "metadata": {},
   "outputs": [],
   "source": [
    "for layer in base_model.layers:\n",
    "    layer.trainable= False"
   ]
  },
  {
   "cell_type": "code",
   "execution_count": 17,
   "id": "f7864892",
   "metadata": {},
   "outputs": [],
   "source": [
    "# model.summary()"
   ]
  },
  {
   "cell_type": "code",
   "execution_count": 18,
   "id": "12526f99",
   "metadata": {},
   "outputs": [],
   "source": [
    "from tensorflow.keras.callbacks import ModelCheckpoint, ReduceLROnPlateau, EarlyStopping"
   ]
  },
  {
   "cell_type": "code",
   "execution_count": 19,
   "id": "0271dc1e",
   "metadata": {},
   "outputs": [],
   "source": [
    "checkpoint = ModelCheckpoint(r\"\\\\Mac\\Home\\Downloads\\mrlEyes_2018_01\\models\\model.h5\",monitor = \"val_loss\", save_best_only=True,verbose =3)\n",
    "earlystop =EarlyStopping(monitor =\"val_loss\", patience = 7, verbose =3, restore_best_weights = True)\n",
    "learning_rate = ReduceLROnPlateau(monitor = \"val_loss\", patience = 3 ,verbose =3)\n",
    "callbacks =  [checkpoint,earlystop,learning_rate]"
   ]
  },
  {
   "cell_type": "code",
   "execution_count": 20,
   "id": "dc0d9e1d",
   "metadata": {},
   "outputs": [
    {
     "name": "stderr",
     "output_type": "stream",
     "text": [
      "C:\\Users\\MUFSEE~1\\AppData\\Local\\Temp/ipykernel_8612/1352404119.py:2: UserWarning: `Model.fit_generator` is deprecated and will be removed in a future version. Please use `Model.fit`, which supports generators.\n",
      "  model.fit_generator(train_data,steps_per_epoch=train_data.samples//batchsize,validation_data=validation_data,\n"
     ]
    },
    {
     "name": "stdout",
     "output_type": "stream",
     "text": [
      "Epoch 1/5\n",
      "4192/4192 [==============================] - ETA: 0s - loss: 0.0640 - accuracy: 0.9783 ETA\n",
      "Epoch 00001: val_loss improved from inf to 1.00760, saving model to \\\\Mac\\Home\\Downloads\\mrlEyes_2018_01\\models\\model.h5\n",
      "4192/4192 [==============================] - 560s 133ms/step - loss: 0.0640 - accuracy: 0.9783 - val_loss: 1.0076 - val_accuracy: 0.6391 - lr: 0.0010\n",
      "Epoch 2/5\n",
      "4192/4192 [==============================] - ETA: 0s - loss: 0.0325 - accuracy: 0.9899\n",
      "Epoch 00002: val_loss improved from 1.00760 to 0.29908, saving model to \\\\Mac\\Home\\Downloads\\mrlEyes_2018_01\\models\\model.h5\n",
      "4192/4192 [==============================] - 562s 134ms/step - loss: 0.0325 - accuracy: 0.9899 - val_loss: 0.2991 - val_accuracy: 0.8226 - lr: 0.0010\n",
      "Epoch 3/5\n",
      "4192/4192 [==============================] - ETA: 0s - loss: 0.0253 - accuracy: 0.9916\n",
      "Epoch 00003: val_loss did not improve from 0.29908\n",
      "4192/4192 [==============================] - 558s 133ms/step - loss: 0.0253 - accuracy: 0.9916 - val_loss: 0.5695 - val_accuracy: 0.7695 - lr: 0.0010\n",
      "Epoch 4/5\n",
      "4192/4192 [==============================] - ETA: 0s - loss: 0.0227 - accuracy: 0.9928\n",
      "Epoch 00004: val_loss improved from 0.29908 to 0.23888, saving model to \\\\Mac\\Home\\Downloads\\mrlEyes_2018_01\\models\\model.h5\n",
      "4192/4192 [==============================] - 561s 134ms/step - loss: 0.0227 - accuracy: 0.9928 - val_loss: 0.2389 - val_accuracy: 0.9037 - lr: 0.0010\n",
      "Epoch 5/5\n",
      "4192/4192 [==============================] - ETA: 0s - loss: 0.0177 - accuracy: 0.9944\n",
      "Epoch 00005: val_loss did not improve from 0.23888\n",
      "4192/4192 [==============================] - 555s 132ms/step - loss: 0.0177 - accuracy: 0.9944 - val_loss: 0.9760 - val_accuracy: 0.7425 - lr: 0.0010\n"
     ]
    },
    {
     "data": {
      "text/plain": [
       "<keras.callbacks.History at 0x26acf6b4b20>"
      ]
     },
     "execution_count": 20,
     "metadata": {},
     "output_type": "execute_result"
    }
   ],
   "source": [
    "model.compile(optimizer=\"Adam\",loss=\"categorical_crossentropy\",metrics = [\"accuracy\"])\n",
    "model.fit_generator(train_data,steps_per_epoch=train_data.samples//batchsize,validation_data=validation_data,\n",
    "                   validation_steps = validation_data.samples//batchsize,\n",
    "                   callbacks =callbacks,\n",
    "                   epochs =5)"
   ]
  },
  {
   "cell_type": "markdown",
   "id": "7eaf668a",
   "metadata": {},
   "source": [
    "### model evaluation"
   ]
  },
  {
   "cell_type": "code",
   "execution_count": 24,
   "id": "1482408d",
   "metadata": {},
   "outputs": [
    {
     "name": "stderr",
     "output_type": "stream",
     "text": [
      "C:\\Users\\MUFSEE~1\\AppData\\Local\\Temp/ipykernel_8612/1348140789.py:4: UserWarning: `Model.evaluate_generator` is deprecated and will be removed in a future version. Please use `Model.evaluate`, which supports generators.\n",
      "  scores = model.evaluate_generator(train_data)\n"
     ]
    },
    {
     "name": "stdout",
     "output_type": "stream",
     "text": [
      "evaluate_generator accuracy: 99.75%\n"
     ]
    }
   ],
   "source": [
    "\n",
    "scores = model.evaluate_generator(train_data)\n",
    "print(\"%s%s: %.2f%%\" % (\"evaluate_generator \",model.metrics_names[1], scores[1]*100))"
   ]
  },
  {
   "cell_type": "code",
   "execution_count": 25,
   "id": "bd33db48",
   "metadata": {},
   "outputs": [
    {
     "name": "stderr",
     "output_type": "stream",
     "text": [
      "C:\\Users\\MUFSEE~1\\AppData\\Local\\Temp/ipykernel_8612/1372518863.py:1: UserWarning: `Model.evaluate_generator` is deprecated and will be removed in a future version. Please use `Model.evaluate`, which supports generators.\n",
      "  scores = model.evaluate_generator(validation_data)\n"
     ]
    },
    {
     "name": "stdout",
     "output_type": "stream",
     "text": [
      "evaluate_generator accuracy: 74.23%\n"
     ]
    }
   ],
   "source": [
    "scores = model.evaluate_generator(validation_data)\n",
    "print(\"%s%s: %.2f%%\" % (\"evaluate_generator \",model.metrics_names[1], scores[1]*100))"
   ]
  },
  {
   "cell_type": "code",
   "execution_count": 26,
   "id": "4fd3c217",
   "metadata": {},
   "outputs": [
    {
     "name": "stderr",
     "output_type": "stream",
     "text": [
      "C:\\Users\\MUFSEE~1\\AppData\\Local\\Temp/ipykernel_8612/961241508.py:1: UserWarning: `Model.evaluate_generator` is deprecated and will be removed in a future version. Please use `Model.evaluate`, which supports generators.\n",
      "  scores = model.evaluate_generator(test_data)\n"
     ]
    },
    {
     "name": "stdout",
     "output_type": "stream",
     "text": [
      "evaluate_generator accuracy: 90.06%\n"
     ]
    }
   ],
   "source": [
    "scores = model.evaluate_generator(test_data)\n",
    "print(\"%s%s: %.2f%%\" % (\"evaluate_generator \",model.metrics_names[1], scores[1]*100))"
   ]
  },
  {
   "cell_type": "code",
   "execution_count": null,
   "id": "218335f6",
   "metadata": {},
   "outputs": [],
   "source": []
  }
 ],
 "metadata": {
  "kernelspec": {
   "display_name": "Python 3 (ipykernel)",
   "language": "python",
   "name": "python3"
  },
  "language_info": {
   "codemirror_mode": {
    "name": "ipython",
    "version": 3
   },
   "file_extension": ".py",
   "mimetype": "text/x-python",
   "name": "python",
   "nbconvert_exporter": "python",
   "pygments_lexer": "ipython3",
   "version": "3.9.7"
  }
 },
 "nbformat": 4,
 "nbformat_minor": 5
}
